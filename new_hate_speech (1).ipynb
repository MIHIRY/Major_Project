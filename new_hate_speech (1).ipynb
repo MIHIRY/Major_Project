{
  "nbformat": 4,
  "nbformat_minor": 0,
  "metadata": {
    "colab": {
      "provenance": []
    },
    "kernelspec": {
      "name": "python3",
      "display_name": "Python 3"
    },
    "language_info": {
      "name": "python"
    }
  },
  "cells": [
    {
      "cell_type": "code",
      "execution_count": null,
      "metadata": {
        "id": "DWSroNlpsxyr"
      },
      "outputs": [],
      "source": [
        "import pandas as pd\n",
        "import numpy as np\n",
        "from matplotlib import pyplot as plt\n",
        "%matplotlib inline\n",
        "from sklearn.preprocessing import LabelEncoder # is to convert the word into some value which is randomly assigned by the label encoder.\n",
        "from sklearn.feature_extraction.text import CountVectorizer # for converting text into tokens.\n",
        "from sklearn.model_selection import train_test_split\n",
        "from sklearn.linear_model import LogisticRegression\n",
        "from sklearn.metrics import accuracy_score\n"
      ]
    },
    {
      "cell_type": "code",
      "source": [
        "data = pd.read_csv('/content/2020-12-31-DynamicallyGeneratedHateDataset-entries-v0.1.csv') # Read the data set."
      ],
      "metadata": {
        "id": "rUdlMrMfvb11"
      },
      "execution_count": null,
      "outputs": []
    },
    {
      "cell_type": "markdown",
      "source": [],
      "metadata": {
        "id": "exD6Td0XbzEV"
      }
    },
    {
      "cell_type": "code",
      "source": [
        "data.head() # is to print first 5 values from dataset."
      ],
      "metadata": {
        "colab": {
          "base_uri": "https://localhost:8080/",
          "height": 206
        },
        "id": "jONiYSi1ve48",
        "outputId": "d275736f-b06b-4aa1-d635-55fb9ef0b10a"
      },
      "execution_count": null,
      "outputs": [
        {
          "output_type": "execute_result",
          "data": {
            "text/plain": [
              "   Unnamed: 0     id                                               text label  \\\n",
              "0           1  10000  It should be legal for a husband to rape his wife  hate   \n",
              "1           2  10001                            dalits are lowlife scum  hate   \n",
              "2           3  10002                                dalits are lowlives  hate   \n",
              "3           4  10003  It was a better world when women dare not ques...  hate   \n",
              "4           5  10004  I don't work this hard so that those immigrant...  hate   \n",
              "\n",
              "       type model_wrong  db.model_preds           status round  split  \\\n",
              "0  notgiven        True         0.97457  dynabench entry     1  train   \n",
              "1  notgiven       False         0.08233  dynabench entry     1   test   \n",
              "2  notgiven        True         0.92319  dynabench entry     1  train   \n",
              "3  notgiven        True         0.99006  dynabench entry     1   test   \n",
              "4  notgiven        True         0.98836  dynabench entry     1  train   \n",
              "\n",
              "    annotator  \n",
              "0  gnzuctwed3  \n",
              "1  cagnluiznm  \n",
              "2  cagnluiznm  \n",
              "3  gnzuctwed3  \n",
              "4  cagnluiznm  "
            ],
            "text/html": [
              "\n",
              "  <div id=\"df-75adbf1a-8cd9-41e2-811a-64a1efe457e0\">\n",
              "    <div class=\"colab-df-container\">\n",
              "      <div>\n",
              "<style scoped>\n",
              "    .dataframe tbody tr th:only-of-type {\n",
              "        vertical-align: middle;\n",
              "    }\n",
              "\n",
              "    .dataframe tbody tr th {\n",
              "        vertical-align: top;\n",
              "    }\n",
              "\n",
              "    .dataframe thead th {\n",
              "        text-align: right;\n",
              "    }\n",
              "</style>\n",
              "<table border=\"1\" class=\"dataframe\">\n",
              "  <thead>\n",
              "    <tr style=\"text-align: right;\">\n",
              "      <th></th>\n",
              "      <th>Unnamed: 0</th>\n",
              "      <th>id</th>\n",
              "      <th>text</th>\n",
              "      <th>label</th>\n",
              "      <th>type</th>\n",
              "      <th>model_wrong</th>\n",
              "      <th>db.model_preds</th>\n",
              "      <th>status</th>\n",
              "      <th>round</th>\n",
              "      <th>split</th>\n",
              "      <th>annotator</th>\n",
              "    </tr>\n",
              "  </thead>\n",
              "  <tbody>\n",
              "    <tr>\n",
              "      <th>0</th>\n",
              "      <td>1</td>\n",
              "      <td>10000</td>\n",
              "      <td>It should be legal for a husband to rape his wife</td>\n",
              "      <td>hate</td>\n",
              "      <td>notgiven</td>\n",
              "      <td>True</td>\n",
              "      <td>0.97457</td>\n",
              "      <td>dynabench entry</td>\n",
              "      <td>1</td>\n",
              "      <td>train</td>\n",
              "      <td>gnzuctwed3</td>\n",
              "    </tr>\n",
              "    <tr>\n",
              "      <th>1</th>\n",
              "      <td>2</td>\n",
              "      <td>10001</td>\n",
              "      <td>dalits are lowlife scum</td>\n",
              "      <td>hate</td>\n",
              "      <td>notgiven</td>\n",
              "      <td>False</td>\n",
              "      <td>0.08233</td>\n",
              "      <td>dynabench entry</td>\n",
              "      <td>1</td>\n",
              "      <td>test</td>\n",
              "      <td>cagnluiznm</td>\n",
              "    </tr>\n",
              "    <tr>\n",
              "      <th>2</th>\n",
              "      <td>3</td>\n",
              "      <td>10002</td>\n",
              "      <td>dalits are lowlives</td>\n",
              "      <td>hate</td>\n",
              "      <td>notgiven</td>\n",
              "      <td>True</td>\n",
              "      <td>0.92319</td>\n",
              "      <td>dynabench entry</td>\n",
              "      <td>1</td>\n",
              "      <td>train</td>\n",
              "      <td>cagnluiznm</td>\n",
              "    </tr>\n",
              "    <tr>\n",
              "      <th>3</th>\n",
              "      <td>4</td>\n",
              "      <td>10003</td>\n",
              "      <td>It was a better world when women dare not ques...</td>\n",
              "      <td>hate</td>\n",
              "      <td>notgiven</td>\n",
              "      <td>True</td>\n",
              "      <td>0.99006</td>\n",
              "      <td>dynabench entry</td>\n",
              "      <td>1</td>\n",
              "      <td>test</td>\n",
              "      <td>gnzuctwed3</td>\n",
              "    </tr>\n",
              "    <tr>\n",
              "      <th>4</th>\n",
              "      <td>5</td>\n",
              "      <td>10004</td>\n",
              "      <td>I don't work this hard so that those immigrant...</td>\n",
              "      <td>hate</td>\n",
              "      <td>notgiven</td>\n",
              "      <td>True</td>\n",
              "      <td>0.98836</td>\n",
              "      <td>dynabench entry</td>\n",
              "      <td>1</td>\n",
              "      <td>train</td>\n",
              "      <td>cagnluiznm</td>\n",
              "    </tr>\n",
              "  </tbody>\n",
              "</table>\n",
              "</div>\n",
              "      <button class=\"colab-df-convert\" onclick=\"convertToInteractive('df-75adbf1a-8cd9-41e2-811a-64a1efe457e0')\"\n",
              "              title=\"Convert this dataframe to an interactive table.\"\n",
              "              style=\"display:none;\">\n",
              "        \n",
              "  <svg xmlns=\"http://www.w3.org/2000/svg\" height=\"24px\"viewBox=\"0 0 24 24\"\n",
              "       width=\"24px\">\n",
              "    <path d=\"M0 0h24v24H0V0z\" fill=\"none\"/>\n",
              "    <path d=\"M18.56 5.44l.94 2.06.94-2.06 2.06-.94-2.06-.94-.94-2.06-.94 2.06-2.06.94zm-11 1L8.5 8.5l.94-2.06 2.06-.94-2.06-.94L8.5 2.5l-.94 2.06-2.06.94zm10 10l.94 2.06.94-2.06 2.06-.94-2.06-.94-.94-2.06-.94 2.06-2.06.94z\"/><path d=\"M17.41 7.96l-1.37-1.37c-.4-.4-.92-.59-1.43-.59-.52 0-1.04.2-1.43.59L10.3 9.45l-7.72 7.72c-.78.78-.78 2.05 0 2.83L4 21.41c.39.39.9.59 1.41.59.51 0 1.02-.2 1.41-.59l7.78-7.78 2.81-2.81c.8-.78.8-2.07 0-2.86zM5.41 20L4 18.59l7.72-7.72 1.47 1.35L5.41 20z\"/>\n",
              "  </svg>\n",
              "      </button>\n",
              "      \n",
              "  <style>\n",
              "    .colab-df-container {\n",
              "      display:flex;\n",
              "      flex-wrap:wrap;\n",
              "      gap: 12px;\n",
              "    }\n",
              "\n",
              "    .colab-df-convert {\n",
              "      background-color: #E8F0FE;\n",
              "      border: none;\n",
              "      border-radius: 50%;\n",
              "      cursor: pointer;\n",
              "      display: none;\n",
              "      fill: #1967D2;\n",
              "      height: 32px;\n",
              "      padding: 0 0 0 0;\n",
              "      width: 32px;\n",
              "    }\n",
              "\n",
              "    .colab-df-convert:hover {\n",
              "      background-color: #E2EBFA;\n",
              "      box-shadow: 0px 1px 2px rgba(60, 64, 67, 0.3), 0px 1px 3px 1px rgba(60, 64, 67, 0.15);\n",
              "      fill: #174EA6;\n",
              "    }\n",
              "\n",
              "    [theme=dark] .colab-df-convert {\n",
              "      background-color: #3B4455;\n",
              "      fill: #D2E3FC;\n",
              "    }\n",
              "\n",
              "    [theme=dark] .colab-df-convert:hover {\n",
              "      background-color: #434B5C;\n",
              "      box-shadow: 0px 1px 3px 1px rgba(0, 0, 0, 0.15);\n",
              "      filter: drop-shadow(0px 1px 2px rgba(0, 0, 0, 0.3));\n",
              "      fill: #FFFFFF;\n",
              "    }\n",
              "  </style>\n",
              "\n",
              "      <script>\n",
              "        const buttonEl =\n",
              "          document.querySelector('#df-75adbf1a-8cd9-41e2-811a-64a1efe457e0 button.colab-df-convert');\n",
              "        buttonEl.style.display =\n",
              "          google.colab.kernel.accessAllowed ? 'block' : 'none';\n",
              "\n",
              "        async function convertToInteractive(key) {\n",
              "          const element = document.querySelector('#df-75adbf1a-8cd9-41e2-811a-64a1efe457e0');\n",
              "          const dataTable =\n",
              "            await google.colab.kernel.invokeFunction('convertToInteractive',\n",
              "                                                     [key], {});\n",
              "          if (!dataTable) return;\n",
              "\n",
              "          const docLinkHtml = 'Like what you see? Visit the ' +\n",
              "            '<a target=\"_blank\" href=https://colab.research.google.com/notebooks/data_table.ipynb>data table notebook</a>'\n",
              "            + ' to learn more about interactive tables.';\n",
              "          element.innerHTML = '';\n",
              "          dataTable['output_type'] = 'display_data';\n",
              "          await google.colab.output.renderOutput(dataTable, element);\n",
              "          const docLink = document.createElement('div');\n",
              "          docLink.innerHTML = docLinkHtml;\n",
              "          element.appendChild(docLink);\n",
              "        }\n",
              "      </script>\n",
              "    </div>\n",
              "  </div>\n",
              "  "
            ]
          },
          "metadata": {},
          "execution_count": 4
        }
      ]
    },
    {
      "cell_type": "code",
      "source": [
        "data.info # it shows the information of the dataset."
      ],
      "metadata": {
        "colab": {
          "base_uri": "https://localhost:8080/"
        },
        "id": "aC9KBXT7vg7h",
        "outputId": "57aff280-0f26-4e39-9e75-063ffe8f91c1"
      },
      "execution_count": null,
      "outputs": [
        {
          "output_type": "execute_result",
          "data": {
            "text/plain": [
              "<bound method DataFrame.info of        Unnamed: 0     id                                               text  \\\n",
              "0               1  10000  It should be legal for a husband to rape his wife   \n",
              "1               2  10001                            dalits are lowlife scum   \n",
              "2               3  10002                                dalits are lowlives   \n",
              "3               4  10003  It was a better world when women dare not ques...   \n",
              "4               5  10004  I don't work this hard so that those immigrant...   \n",
              "...           ...    ...                                                ...   \n",
              "40618       40736   9995  we should forcibly remove all the foreigners f...   \n",
              "40619       40737   9996  we should forcibly remove all the immigrants f...   \n",
              "40620       40738   9997               dalits are unworthy of the Gods love   \n",
              "40621       40739   9998                               dalits are worthless   \n",
              "40622       40740   9999       dalits are deserves to be treated as lowlife   \n",
              "\n",
              "      label      type model_wrong  db.model_preds           status round  \\\n",
              "0      hate  notgiven        True         0.97457  dynabench entry     1   \n",
              "1      hate  notgiven       False         0.08233  dynabench entry     1   \n",
              "2      hate  notgiven        True         0.92319  dynabench entry     1   \n",
              "3      hate  notgiven        True         0.99006  dynabench entry     1   \n",
              "4      hate  notgiven        True         0.98836  dynabench entry     1   \n",
              "...     ...       ...         ...             ...              ...   ...   \n",
              "40618  hate  notgiven        True         0.86945  dynabench entry     1   \n",
              "40619  hate  notgiven        True         0.50039  dynabench entry     1   \n",
              "40620  hate  notgiven        True         0.97652  dynabench entry     1   \n",
              "40621  hate  notgiven        True         0.94326  dynabench entry     1   \n",
              "40622  hate  notgiven        True         0.94324  dynabench entry     1   \n",
              "\n",
              "       split   annotator  \n",
              "0      train  gnzuctwed3  \n",
              "1       test  cagnluiznm  \n",
              "2      train  cagnluiznm  \n",
              "3       test  gnzuctwed3  \n",
              "4      train  cagnluiznm  \n",
              "...      ...         ...  \n",
              "40618  train  cagnluiznm  \n",
              "40619  train  cagnluiznm  \n",
              "40620  train  cagnluiznm  \n",
              "40621  train  cagnluiznm  \n",
              "40622  train  cagnluiznm  \n",
              "\n",
              "[40623 rows x 11 columns]>"
            ]
          },
          "metadata": {},
          "execution_count": 5
        }
      ]
    },
    {
      "cell_type": "code",
      "source": [
        "data.shape"
      ],
      "metadata": {
        "colab": {
          "base_uri": "https://localhost:8080/"
        },
        "id": "aqYrUFiWvifU",
        "outputId": "360818c4-d398-47ac-8d8e-d054ce1314fe"
      },
      "execution_count": null,
      "outputs": [
        {
          "output_type": "execute_result",
          "data": {
            "text/plain": [
              "(40623, 11)"
            ]
          },
          "metadata": {},
          "execution_count": 6
        }
      ]
    },
    {
      "cell_type": "code",
      "source": [
        "data.describe(include='all')"
      ],
      "metadata": {
        "colab": {
          "base_uri": "https://localhost:8080/",
          "height": 394
        },
        "id": "SdUEebIHvkBC",
        "outputId": "c1de6143-ddc5-4cb9-c671-38f33efaf696"
      },
      "execution_count": null,
      "outputs": [
        {
          "output_type": "execute_result",
          "data": {
            "text/plain": [
              "          Unnamed: 0     id                      text  label   type  \\\n",
              "count   40623.000000  40623                     40623  40623  40623   \n",
              "unique           NaN  40623                     40463      2      7   \n",
              "top              NaN  10000  Blacks are such pondlife   hate   none   \n",
              "freq             NaN      1                         6  22124  18499   \n",
              "mean    20371.983236    NaN                       NaN    NaN    NaN   \n",
              "std     11743.590183    NaN                       NaN    NaN    NaN   \n",
              "min         1.000000    NaN                       NaN    NaN    NaN   \n",
              "25%     10206.500000    NaN                       NaN    NaN    NaN   \n",
              "50%     20374.000000    NaN                       NaN    NaN    NaN   \n",
              "75%     30534.500000    NaN                       NaN    NaN    NaN   \n",
              "max     40740.000000    NaN                       NaN    NaN    NaN   \n",
              "\n",
              "       model_wrong  db.model_preds           status  round  split   annotator  \n",
              "count        26097    26097.000000            40623  40623  40623       40623  \n",
              "unique           2             NaN                2      5      3          20  \n",
              "top           True             NaN  dynabench entry      1  train  gnzuctwed3  \n",
              "freq         15436             NaN            26097  11542  32497        6733  \n",
              "mean           NaN        0.585455              NaN    NaN    NaN         NaN  \n",
              "std            NaN        0.448801              NaN    NaN    NaN         NaN  \n",
              "min            NaN        0.000010              NaN    NaN    NaN         NaN  \n",
              "25%            NaN        0.036560              NaN    NaN    NaN         NaN  \n",
              "50%            NaN        0.910290              NaN    NaN    NaN         NaN  \n",
              "75%            NaN        0.995500              NaN    NaN    NaN         NaN  \n",
              "max            NaN        0.999920              NaN    NaN    NaN         NaN  "
            ],
            "text/html": [
              "\n",
              "  <div id=\"df-b66e0010-749a-441f-a8e1-1843f3a8f807\">\n",
              "    <div class=\"colab-df-container\">\n",
              "      <div>\n",
              "<style scoped>\n",
              "    .dataframe tbody tr th:only-of-type {\n",
              "        vertical-align: middle;\n",
              "    }\n",
              "\n",
              "    .dataframe tbody tr th {\n",
              "        vertical-align: top;\n",
              "    }\n",
              "\n",
              "    .dataframe thead th {\n",
              "        text-align: right;\n",
              "    }\n",
              "</style>\n",
              "<table border=\"1\" class=\"dataframe\">\n",
              "  <thead>\n",
              "    <tr style=\"text-align: right;\">\n",
              "      <th></th>\n",
              "      <th>Unnamed: 0</th>\n",
              "      <th>id</th>\n",
              "      <th>text</th>\n",
              "      <th>label</th>\n",
              "      <th>type</th>\n",
              "      <th>model_wrong</th>\n",
              "      <th>db.model_preds</th>\n",
              "      <th>status</th>\n",
              "      <th>round</th>\n",
              "      <th>split</th>\n",
              "      <th>annotator</th>\n",
              "    </tr>\n",
              "  </thead>\n",
              "  <tbody>\n",
              "    <tr>\n",
              "      <th>count</th>\n",
              "      <td>40623.000000</td>\n",
              "      <td>40623</td>\n",
              "      <td>40623</td>\n",
              "      <td>40623</td>\n",
              "      <td>40623</td>\n",
              "      <td>26097</td>\n",
              "      <td>26097.000000</td>\n",
              "      <td>40623</td>\n",
              "      <td>40623</td>\n",
              "      <td>40623</td>\n",
              "      <td>40623</td>\n",
              "    </tr>\n",
              "    <tr>\n",
              "      <th>unique</th>\n",
              "      <td>NaN</td>\n",
              "      <td>40623</td>\n",
              "      <td>40463</td>\n",
              "      <td>2</td>\n",
              "      <td>7</td>\n",
              "      <td>2</td>\n",
              "      <td>NaN</td>\n",
              "      <td>2</td>\n",
              "      <td>5</td>\n",
              "      <td>3</td>\n",
              "      <td>20</td>\n",
              "    </tr>\n",
              "    <tr>\n",
              "      <th>top</th>\n",
              "      <td>NaN</td>\n",
              "      <td>10000</td>\n",
              "      <td>Blacks are such pondlife</td>\n",
              "      <td>hate</td>\n",
              "      <td>none</td>\n",
              "      <td>True</td>\n",
              "      <td>NaN</td>\n",
              "      <td>dynabench entry</td>\n",
              "      <td>1</td>\n",
              "      <td>train</td>\n",
              "      <td>gnzuctwed3</td>\n",
              "    </tr>\n",
              "    <tr>\n",
              "      <th>freq</th>\n",
              "      <td>NaN</td>\n",
              "      <td>1</td>\n",
              "      <td>6</td>\n",
              "      <td>22124</td>\n",
              "      <td>18499</td>\n",
              "      <td>15436</td>\n",
              "      <td>NaN</td>\n",
              "      <td>26097</td>\n",
              "      <td>11542</td>\n",
              "      <td>32497</td>\n",
              "      <td>6733</td>\n",
              "    </tr>\n",
              "    <tr>\n",
              "      <th>mean</th>\n",
              "      <td>20371.983236</td>\n",
              "      <td>NaN</td>\n",
              "      <td>NaN</td>\n",
              "      <td>NaN</td>\n",
              "      <td>NaN</td>\n",
              "      <td>NaN</td>\n",
              "      <td>0.585455</td>\n",
              "      <td>NaN</td>\n",
              "      <td>NaN</td>\n",
              "      <td>NaN</td>\n",
              "      <td>NaN</td>\n",
              "    </tr>\n",
              "    <tr>\n",
              "      <th>std</th>\n",
              "      <td>11743.590183</td>\n",
              "      <td>NaN</td>\n",
              "      <td>NaN</td>\n",
              "      <td>NaN</td>\n",
              "      <td>NaN</td>\n",
              "      <td>NaN</td>\n",
              "      <td>0.448801</td>\n",
              "      <td>NaN</td>\n",
              "      <td>NaN</td>\n",
              "      <td>NaN</td>\n",
              "      <td>NaN</td>\n",
              "    </tr>\n",
              "    <tr>\n",
              "      <th>min</th>\n",
              "      <td>1.000000</td>\n",
              "      <td>NaN</td>\n",
              "      <td>NaN</td>\n",
              "      <td>NaN</td>\n",
              "      <td>NaN</td>\n",
              "      <td>NaN</td>\n",
              "      <td>0.000010</td>\n",
              "      <td>NaN</td>\n",
              "      <td>NaN</td>\n",
              "      <td>NaN</td>\n",
              "      <td>NaN</td>\n",
              "    </tr>\n",
              "    <tr>\n",
              "      <th>25%</th>\n",
              "      <td>10206.500000</td>\n",
              "      <td>NaN</td>\n",
              "      <td>NaN</td>\n",
              "      <td>NaN</td>\n",
              "      <td>NaN</td>\n",
              "      <td>NaN</td>\n",
              "      <td>0.036560</td>\n",
              "      <td>NaN</td>\n",
              "      <td>NaN</td>\n",
              "      <td>NaN</td>\n",
              "      <td>NaN</td>\n",
              "    </tr>\n",
              "    <tr>\n",
              "      <th>50%</th>\n",
              "      <td>20374.000000</td>\n",
              "      <td>NaN</td>\n",
              "      <td>NaN</td>\n",
              "      <td>NaN</td>\n",
              "      <td>NaN</td>\n",
              "      <td>NaN</td>\n",
              "      <td>0.910290</td>\n",
              "      <td>NaN</td>\n",
              "      <td>NaN</td>\n",
              "      <td>NaN</td>\n",
              "      <td>NaN</td>\n",
              "    </tr>\n",
              "    <tr>\n",
              "      <th>75%</th>\n",
              "      <td>30534.500000</td>\n",
              "      <td>NaN</td>\n",
              "      <td>NaN</td>\n",
              "      <td>NaN</td>\n",
              "      <td>NaN</td>\n",
              "      <td>NaN</td>\n",
              "      <td>0.995500</td>\n",
              "      <td>NaN</td>\n",
              "      <td>NaN</td>\n",
              "      <td>NaN</td>\n",
              "      <td>NaN</td>\n",
              "    </tr>\n",
              "    <tr>\n",
              "      <th>max</th>\n",
              "      <td>40740.000000</td>\n",
              "      <td>NaN</td>\n",
              "      <td>NaN</td>\n",
              "      <td>NaN</td>\n",
              "      <td>NaN</td>\n",
              "      <td>NaN</td>\n",
              "      <td>0.999920</td>\n",
              "      <td>NaN</td>\n",
              "      <td>NaN</td>\n",
              "      <td>NaN</td>\n",
              "      <td>NaN</td>\n",
              "    </tr>\n",
              "  </tbody>\n",
              "</table>\n",
              "</div>\n",
              "      <button class=\"colab-df-convert\" onclick=\"convertToInteractive('df-b66e0010-749a-441f-a8e1-1843f3a8f807')\"\n",
              "              title=\"Convert this dataframe to an interactive table.\"\n",
              "              style=\"display:none;\">\n",
              "        \n",
              "  <svg xmlns=\"http://www.w3.org/2000/svg\" height=\"24px\"viewBox=\"0 0 24 24\"\n",
              "       width=\"24px\">\n",
              "    <path d=\"M0 0h24v24H0V0z\" fill=\"none\"/>\n",
              "    <path d=\"M18.56 5.44l.94 2.06.94-2.06 2.06-.94-2.06-.94-.94-2.06-.94 2.06-2.06.94zm-11 1L8.5 8.5l.94-2.06 2.06-.94-2.06-.94L8.5 2.5l-.94 2.06-2.06.94zm10 10l.94 2.06.94-2.06 2.06-.94-2.06-.94-.94-2.06-.94 2.06-2.06.94z\"/><path d=\"M17.41 7.96l-1.37-1.37c-.4-.4-.92-.59-1.43-.59-.52 0-1.04.2-1.43.59L10.3 9.45l-7.72 7.72c-.78.78-.78 2.05 0 2.83L4 21.41c.39.39.9.59 1.41.59.51 0 1.02-.2 1.41-.59l7.78-7.78 2.81-2.81c.8-.78.8-2.07 0-2.86zM5.41 20L4 18.59l7.72-7.72 1.47 1.35L5.41 20z\"/>\n",
              "  </svg>\n",
              "      </button>\n",
              "      \n",
              "  <style>\n",
              "    .colab-df-container {\n",
              "      display:flex;\n",
              "      flex-wrap:wrap;\n",
              "      gap: 12px;\n",
              "    }\n",
              "\n",
              "    .colab-df-convert {\n",
              "      background-color: #E8F0FE;\n",
              "      border: none;\n",
              "      border-radius: 50%;\n",
              "      cursor: pointer;\n",
              "      display: none;\n",
              "      fill: #1967D2;\n",
              "      height: 32px;\n",
              "      padding: 0 0 0 0;\n",
              "      width: 32px;\n",
              "    }\n",
              "\n",
              "    .colab-df-convert:hover {\n",
              "      background-color: #E2EBFA;\n",
              "      box-shadow: 0px 1px 2px rgba(60, 64, 67, 0.3), 0px 1px 3px 1px rgba(60, 64, 67, 0.15);\n",
              "      fill: #174EA6;\n",
              "    }\n",
              "\n",
              "    [theme=dark] .colab-df-convert {\n",
              "      background-color: #3B4455;\n",
              "      fill: #D2E3FC;\n",
              "    }\n",
              "\n",
              "    [theme=dark] .colab-df-convert:hover {\n",
              "      background-color: #434B5C;\n",
              "      box-shadow: 0px 1px 3px 1px rgba(0, 0, 0, 0.15);\n",
              "      filter: drop-shadow(0px 1px 2px rgba(0, 0, 0, 0.3));\n",
              "      fill: #FFFFFF;\n",
              "    }\n",
              "  </style>\n",
              "\n",
              "      <script>\n",
              "        const buttonEl =\n",
              "          document.querySelector('#df-b66e0010-749a-441f-a8e1-1843f3a8f807 button.colab-df-convert');\n",
              "        buttonEl.style.display =\n",
              "          google.colab.kernel.accessAllowed ? 'block' : 'none';\n",
              "\n",
              "        async function convertToInteractive(key) {\n",
              "          const element = document.querySelector('#df-b66e0010-749a-441f-a8e1-1843f3a8f807');\n",
              "          const dataTable =\n",
              "            await google.colab.kernel.invokeFunction('convertToInteractive',\n",
              "                                                     [key], {});\n",
              "          if (!dataTable) return;\n",
              "\n",
              "          const docLinkHtml = 'Like what you see? Visit the ' +\n",
              "            '<a target=\"_blank\" href=https://colab.research.google.com/notebooks/data_table.ipynb>data table notebook</a>'\n",
              "            + ' to learn more about interactive tables.';\n",
              "          element.innerHTML = '';\n",
              "          dataTable['output_type'] = 'display_data';\n",
              "          await google.colab.output.renderOutput(dataTable, element);\n",
              "          const docLink = document.createElement('div');\n",
              "          docLink.innerHTML = docLinkHtml;\n",
              "          element.appendChild(docLink);\n",
              "        }\n",
              "      </script>\n",
              "    </div>\n",
              "  </div>\n",
              "  "
            ]
          },
          "metadata": {},
          "execution_count": 7
        }
      ]
    },
    {
      "cell_type": "code",
      "source": [
        "data.columns"
      ],
      "metadata": {
        "colab": {
          "base_uri": "https://localhost:8080/"
        },
        "id": "j64E0ARhvkpP",
        "outputId": "e0be5ea0-99f7-4a4b-bb88-ad30bf9e25c6"
      },
      "execution_count": null,
      "outputs": [
        {
          "output_type": "execute_result",
          "data": {
            "text/plain": [
              "Index(['Unnamed: 0', 'id', 'text', 'label', 'type', 'model_wrong',\n",
              "       'db.model_preds', 'status', 'round', 'split', 'annotator'],\n",
              "      dtype='object')"
            ]
          },
          "metadata": {},
          "execution_count": 8
        }
      ]
    },
    {
      "cell_type": "code",
      "source": [
        "data.isna().sum() # count the number of missing values in each column"
      ],
      "metadata": {
        "colab": {
          "base_uri": "https://localhost:8080/"
        },
        "id": "3NIzuRUJvmDw",
        "outputId": "aaa27b8b-f973-40fe-9011-3cf3b31fd02e"
      },
      "execution_count": null,
      "outputs": [
        {
          "output_type": "execute_result",
          "data": {
            "text/plain": [
              "Unnamed: 0            0\n",
              "id                    0\n",
              "text                  0\n",
              "label                 0\n",
              "type                  0\n",
              "model_wrong       14526\n",
              "db.model_preds    14526\n",
              "status                0\n",
              "round                 0\n",
              "split                 0\n",
              "annotator             0\n",
              "dtype: int64"
            ]
          },
          "metadata": {},
          "execution_count": 9
        }
      ]
    },
    {
      "cell_type": "code",
      "source": [
        "data.drop(columns = ['Unnamed: 0'], axis = 1 , inplace = True) #removed unnamed\n",
        "data.head()"
      ],
      "metadata": {
        "colab": {
          "base_uri": "https://localhost:8080/",
          "height": 206
        },
        "id": "cZ8_4JI-vnk0",
        "outputId": "2008d2f8-cf66-41d8-ab1e-4f123adfdacb"
      },
      "execution_count": null,
      "outputs": [
        {
          "output_type": "execute_result",
          "data": {
            "text/plain": [
              "      id                                               text label      type  \\\n",
              "0  10000  It should be legal for a husband to rape his wife  hate  notgiven   \n",
              "1  10001                            dalits are lowlife scum  hate  notgiven   \n",
              "2  10002                                dalits are lowlives  hate  notgiven   \n",
              "3  10003  It was a better world when women dare not ques...  hate  notgiven   \n",
              "4  10004  I don't work this hard so that those immigrant...  hate  notgiven   \n",
              "\n",
              "  model_wrong  db.model_preds           status round  split   annotator  \n",
              "0        True         0.97457  dynabench entry     1  train  gnzuctwed3  \n",
              "1       False         0.08233  dynabench entry     1   test  cagnluiznm  \n",
              "2        True         0.92319  dynabench entry     1  train  cagnluiznm  \n",
              "3        True         0.99006  dynabench entry     1   test  gnzuctwed3  \n",
              "4        True         0.98836  dynabench entry     1  train  cagnluiznm  "
            ],
            "text/html": [
              "\n",
              "  <div id=\"df-83fecd2a-9bb6-46e7-b6bd-a1d0216e4e6c\">\n",
              "    <div class=\"colab-df-container\">\n",
              "      <div>\n",
              "<style scoped>\n",
              "    .dataframe tbody tr th:only-of-type {\n",
              "        vertical-align: middle;\n",
              "    }\n",
              "\n",
              "    .dataframe tbody tr th {\n",
              "        vertical-align: top;\n",
              "    }\n",
              "\n",
              "    .dataframe thead th {\n",
              "        text-align: right;\n",
              "    }\n",
              "</style>\n",
              "<table border=\"1\" class=\"dataframe\">\n",
              "  <thead>\n",
              "    <tr style=\"text-align: right;\">\n",
              "      <th></th>\n",
              "      <th>id</th>\n",
              "      <th>text</th>\n",
              "      <th>label</th>\n",
              "      <th>type</th>\n",
              "      <th>model_wrong</th>\n",
              "      <th>db.model_preds</th>\n",
              "      <th>status</th>\n",
              "      <th>round</th>\n",
              "      <th>split</th>\n",
              "      <th>annotator</th>\n",
              "    </tr>\n",
              "  </thead>\n",
              "  <tbody>\n",
              "    <tr>\n",
              "      <th>0</th>\n",
              "      <td>10000</td>\n",
              "      <td>It should be legal for a husband to rape his wife</td>\n",
              "      <td>hate</td>\n",
              "      <td>notgiven</td>\n",
              "      <td>True</td>\n",
              "      <td>0.97457</td>\n",
              "      <td>dynabench entry</td>\n",
              "      <td>1</td>\n",
              "      <td>train</td>\n",
              "      <td>gnzuctwed3</td>\n",
              "    </tr>\n",
              "    <tr>\n",
              "      <th>1</th>\n",
              "      <td>10001</td>\n",
              "      <td>dalits are lowlife scum</td>\n",
              "      <td>hate</td>\n",
              "      <td>notgiven</td>\n",
              "      <td>False</td>\n",
              "      <td>0.08233</td>\n",
              "      <td>dynabench entry</td>\n",
              "      <td>1</td>\n",
              "      <td>test</td>\n",
              "      <td>cagnluiznm</td>\n",
              "    </tr>\n",
              "    <tr>\n",
              "      <th>2</th>\n",
              "      <td>10002</td>\n",
              "      <td>dalits are lowlives</td>\n",
              "      <td>hate</td>\n",
              "      <td>notgiven</td>\n",
              "      <td>True</td>\n",
              "      <td>0.92319</td>\n",
              "      <td>dynabench entry</td>\n",
              "      <td>1</td>\n",
              "      <td>train</td>\n",
              "      <td>cagnluiznm</td>\n",
              "    </tr>\n",
              "    <tr>\n",
              "      <th>3</th>\n",
              "      <td>10003</td>\n",
              "      <td>It was a better world when women dare not ques...</td>\n",
              "      <td>hate</td>\n",
              "      <td>notgiven</td>\n",
              "      <td>True</td>\n",
              "      <td>0.99006</td>\n",
              "      <td>dynabench entry</td>\n",
              "      <td>1</td>\n",
              "      <td>test</td>\n",
              "      <td>gnzuctwed3</td>\n",
              "    </tr>\n",
              "    <tr>\n",
              "      <th>4</th>\n",
              "      <td>10004</td>\n",
              "      <td>I don't work this hard so that those immigrant...</td>\n",
              "      <td>hate</td>\n",
              "      <td>notgiven</td>\n",
              "      <td>True</td>\n",
              "      <td>0.98836</td>\n",
              "      <td>dynabench entry</td>\n",
              "      <td>1</td>\n",
              "      <td>train</td>\n",
              "      <td>cagnluiznm</td>\n",
              "    </tr>\n",
              "  </tbody>\n",
              "</table>\n",
              "</div>\n",
              "      <button class=\"colab-df-convert\" onclick=\"convertToInteractive('df-83fecd2a-9bb6-46e7-b6bd-a1d0216e4e6c')\"\n",
              "              title=\"Convert this dataframe to an interactive table.\"\n",
              "              style=\"display:none;\">\n",
              "        \n",
              "  <svg xmlns=\"http://www.w3.org/2000/svg\" height=\"24px\"viewBox=\"0 0 24 24\"\n",
              "       width=\"24px\">\n",
              "    <path d=\"M0 0h24v24H0V0z\" fill=\"none\"/>\n",
              "    <path d=\"M18.56 5.44l.94 2.06.94-2.06 2.06-.94-2.06-.94-.94-2.06-.94 2.06-2.06.94zm-11 1L8.5 8.5l.94-2.06 2.06-.94-2.06-.94L8.5 2.5l-.94 2.06-2.06.94zm10 10l.94 2.06.94-2.06 2.06-.94-2.06-.94-.94-2.06-.94 2.06-2.06.94z\"/><path d=\"M17.41 7.96l-1.37-1.37c-.4-.4-.92-.59-1.43-.59-.52 0-1.04.2-1.43.59L10.3 9.45l-7.72 7.72c-.78.78-.78 2.05 0 2.83L4 21.41c.39.39.9.59 1.41.59.51 0 1.02-.2 1.41-.59l7.78-7.78 2.81-2.81c.8-.78.8-2.07 0-2.86zM5.41 20L4 18.59l7.72-7.72 1.47 1.35L5.41 20z\"/>\n",
              "  </svg>\n",
              "      </button>\n",
              "      \n",
              "  <style>\n",
              "    .colab-df-container {\n",
              "      display:flex;\n",
              "      flex-wrap:wrap;\n",
              "      gap: 12px;\n",
              "    }\n",
              "\n",
              "    .colab-df-convert {\n",
              "      background-color: #E8F0FE;\n",
              "      border: none;\n",
              "      border-radius: 50%;\n",
              "      cursor: pointer;\n",
              "      display: none;\n",
              "      fill: #1967D2;\n",
              "      height: 32px;\n",
              "      padding: 0 0 0 0;\n",
              "      width: 32px;\n",
              "    }\n",
              "\n",
              "    .colab-df-convert:hover {\n",
              "      background-color: #E2EBFA;\n",
              "      box-shadow: 0px 1px 2px rgba(60, 64, 67, 0.3), 0px 1px 3px 1px rgba(60, 64, 67, 0.15);\n",
              "      fill: #174EA6;\n",
              "    }\n",
              "\n",
              "    [theme=dark] .colab-df-convert {\n",
              "      background-color: #3B4455;\n",
              "      fill: #D2E3FC;\n",
              "    }\n",
              "\n",
              "    [theme=dark] .colab-df-convert:hover {\n",
              "      background-color: #434B5C;\n",
              "      box-shadow: 0px 1px 3px 1px rgba(0, 0, 0, 0.15);\n",
              "      filter: drop-shadow(0px 1px 2px rgba(0, 0, 0, 0.3));\n",
              "      fill: #FFFFFF;\n",
              "    }\n",
              "  </style>\n",
              "\n",
              "      <script>\n",
              "        const buttonEl =\n",
              "          document.querySelector('#df-83fecd2a-9bb6-46e7-b6bd-a1d0216e4e6c button.colab-df-convert');\n",
              "        buttonEl.style.display =\n",
              "          google.colab.kernel.accessAllowed ? 'block' : 'none';\n",
              "\n",
              "        async function convertToInteractive(key) {\n",
              "          const element = document.querySelector('#df-83fecd2a-9bb6-46e7-b6bd-a1d0216e4e6c');\n",
              "          const dataTable =\n",
              "            await google.colab.kernel.invokeFunction('convertToInteractive',\n",
              "                                                     [key], {});\n",
              "          if (!dataTable) return;\n",
              "\n",
              "          const docLinkHtml = 'Like what you see? Visit the ' +\n",
              "            '<a target=\"_blank\" href=https://colab.research.google.com/notebooks/data_table.ipynb>data table notebook</a>'\n",
              "            + ' to learn more about interactive tables.';\n",
              "          element.innerHTML = '';\n",
              "          dataTable['output_type'] = 'display_data';\n",
              "          await google.colab.output.renderOutput(dataTable, element);\n",
              "          const docLink = document.createElement('div');\n",
              "          docLink.innerHTML = docLinkHtml;\n",
              "          element.appendChild(docLink);\n",
              "        }\n",
              "      </script>\n",
              "    </div>\n",
              "  </div>\n",
              "  "
            ]
          },
          "metadata": {},
          "execution_count": 10
        }
      ]
    },
    {
      "cell_type": "code",
      "source": [
        "data.info()"
      ],
      "metadata": {
        "colab": {
          "base_uri": "https://localhost:8080/"
        },
        "id": "IOmdhhq4vpZN",
        "outputId": "1585e9aa-5540-46f2-849f-109c0c2d3af0"
      },
      "execution_count": null,
      "outputs": [
        {
          "output_type": "stream",
          "name": "stdout",
          "text": [
            "<class 'pandas.core.frame.DataFrame'>\n",
            "RangeIndex: 65406 entries, 0 to 65405\n",
            "Data columns (total 2 columns):\n",
            " #   Column  Non-Null Count  Dtype \n",
            "---  ------  --------------  ----- \n",
            " 0   text    65406 non-null  object\n",
            " 1   label   65406 non-null  int64 \n",
            "dtypes: int64(1), object(1)\n",
            "memory usage: 1022.1+ KB\n"
          ]
        }
      ]
    },
    {
      "cell_type": "code",
      "source": [
        "data['id'].dtype"
      ],
      "metadata": {
        "colab": {
          "base_uri": "https://localhost:8080/"
        },
        "id": "ds5eX0KJvq1v",
        "outputId": "e0475672-cdf2-46ee-eede-00fb8f11d867"
      },
      "execution_count": null,
      "outputs": [
        {
          "output_type": "execute_result",
          "data": {
            "text/plain": [
              "dtype('O')"
            ]
          },
          "metadata": {},
          "execution_count": 11
        }
      ]
    },
    {
      "cell_type": "code",
      "source": [
        "for i in data.columns:\n",
        "    print(i,\":\",data[str(i)].isnull().sum()/data.shape[0])"
      ],
      "metadata": {
        "colab": {
          "base_uri": "https://localhost:8080/"
        },
        "id": "RxVQf5TbvtQb",
        "outputId": "e63927d8-45d8-4697-accb-438bfc41d26a"
      },
      "execution_count": null,
      "outputs": [
        {
          "output_type": "stream",
          "name": "stdout",
          "text": [
            "id : 0.0\n",
            "text : 0.0\n",
            "label : 0.0\n",
            "type : 0.0\n",
            "model_wrong : 0.35758068089505946\n",
            "db.model_preds : 0.35758068089505946\n",
            "status : 0.0\n",
            "round : 0.0\n",
            "split : 0.0\n",
            "annotator : 0.0\n"
          ]
        }
      ]
    },
    {
      "cell_type": "code",
      "source": [
        "data.dropna(axis = 0,inplace = True)\n",
        "for i in data.columns:\n",
        "    print(i,\":\",data[str(i)].isnull().sum()/data.shape[0])"
      ],
      "metadata": {
        "colab": {
          "base_uri": "https://localhost:8080/"
        },
        "id": "Y9TXqmKwvuBP",
        "outputId": "727bc396-ba2c-4c74-958f-95e245c5b080"
      },
      "execution_count": null,
      "outputs": [
        {
          "output_type": "stream",
          "name": "stdout",
          "text": [
            "id : 0.0\n",
            "text : 0.0\n",
            "label : 0.0\n",
            "type : 0.0\n",
            "model_wrong : 0.0\n",
            "db.model_preds : 0.0\n",
            "status : 0.0\n",
            "round : 0.0\n",
            "split : 0.0\n",
            "annotator : 0.0\n"
          ]
        }
      ]
    },
    {
      "cell_type": "code",
      "source": [
        "data.groupby('type').count()['id']"
      ],
      "metadata": {
        "colab": {
          "base_uri": "https://localhost:8080/"
        },
        "id": "w9plogQ5vwZu",
        "outputId": "13e1debb-3dc9-4233-914a-53db60a7b91b"
      },
      "execution_count": null,
      "outputs": [
        {
          "output_type": "execute_result",
          "data": {
            "text/plain": [
              "type\n",
              "animosity          1121\n",
              "dehumanization      390\n",
              "derogation         5377\n",
              "none              10844\n",
              "notgiven           7645\n",
              "support              70\n",
              "threatening         650\n",
              "Name: id, dtype: int64"
            ]
          },
          "metadata": {},
          "execution_count": 14
        }
      ]
    },
    {
      "cell_type": "code",
      "source": [
        "data['type'].nunique()"
      ],
      "metadata": {
        "colab": {
          "base_uri": "https://localhost:8080/"
        },
        "id": "AKRYyJfnvw7k",
        "outputId": "850dab39-ce0b-4951-8395-f21620b5288f"
      },
      "execution_count": null,
      "outputs": [
        {
          "output_type": "execute_result",
          "data": {
            "text/plain": [
              "7"
            ]
          },
          "metadata": {},
          "execution_count": 15
        }
      ]
    },
    {
      "cell_type": "code",
      "source": [
        "import seaborn as sns\n",
        "import matplotlib.pyplot as plt\n",
        "fig,ax = plt.subplots(ncols = 3, figsize = (20,4) , dpi = 100)\n",
        "#plt.tight_layout()\n",
        "\n",
        "colors = ['#66c2a5', '#fc8d62' , '#8da0cb' ,'#e78ac3' , '#a6d854' , '#ffd92f','#e5c494']\n",
        "data['type'].value_counts().plot(kind = 'pie',ax = ax[0], labels = data['type'].value_counts().index , colors = colors)\n",
        "sns.countplot(x = 'type',data = data , ax = ax[1] , palette = 'Paired')\n",
        "sns.countplot(x = 'type' , data = data , hue = 'model_wrong', palette = 'Paired')\n",
        "\n",
        "for i in range(3):\n",
        "    ax[i].set_ylabel('')\n",
        "    ax[i].tick_params(axis='x', labelsize=15 , rotation = 45)\n",
        "    ax[i].tick_params(axis='y', labelsize=15)\n",
        "\n",
        "ax[0].set_title('Type Distribution in Data', fontsize=13)\n",
        "ax[1].set_title('Type Count in Data', fontsize=13)\n",
        "ax[2].set_title('Model Evaluation on Type', fontsize = 13)\n",
        "\n",
        "plt.show()"
      ],
      "metadata": {
        "id": "KK41iZ--vzs5",
        "colab": {
          "base_uri": "https://localhost:8080/",
          "height": 490
        },
        "outputId": "204a92d5-cd5d-41c4-bc8d-75c5322f507e"
      },
      "execution_count": null,
      "outputs": [
        {
          "output_type": "display_data",
          "data": {
            "text/plain": [
              "<Figure size 2000x400 with 3 Axes>"
            ],
            "image/png": "[encoded data removed]"
          },
          "metadata": {}
        }
      ]
    },
    {
      "cell_type": "code",
      "source": [
        "plt.figure(figsize=(6,6))\n",
        "sns.countplot(x = 'label' , data = data, hue = 'model_wrong' , palette = 'Paired')\n",
        "plt.ylabel(\"\")\n",
        "plt.tick_params(axis = 'x',labelsize = 15)\n",
        "plt.tick_params(axis = 'y',labelsize = 15)\n",
        "plt.title(\"Model Evaluation on Label\" , fontsize = 15)\n",
        "plt.show()"
      ],
      "metadata": {
        "colab": {
          "base_uri": "https://localhost:8080/",
          "height": 572
        },
        "id": "Pc_e8jqsv0tn",
        "outputId": "735c0588-87a0-4faf-8c2b-d2329864bca6"
      },
      "execution_count": null,
      "outputs": [
        {
          "output_type": "display_data",
          "data": {
            "text/plain": [
              "<Figure size 600x600 with 1 Axes>"
            ],
            "image/png": "[encoded data removed]"
          },
          "metadata": {}
        }
      ]
    },
    {
      "cell_type": "code",
      "source": [
        "plt.figure(figsize=(5,5))\n",
        "sns.countplot(x = 'label' , data = data, palette = 'Paired')\n",
        "plt.ylabel(\"\")\n",
        "plt.tick_params(axis = 'x',labelsize = 15)\n",
        "plt.tick_params(axis = 'y',labelsize = 15)\n",
        "plt.title(\"Label Distribution\" , fontsize = 15)\n",
        "plt.show()"
      ],
      "metadata": {
        "colab": {
          "base_uri": "https://localhost:8080/",
          "height": 495
        },
        "id": "y3XszTYEv2mu",
        "outputId": "e4e0a134-6cf8-4b75-bc7d-5a14ab28a7e5"
      },
      "execution_count": null,
      "outputs": [
        {
          "output_type": "display_data",
          "data": {
            "text/plain": [
              "<Figure size 500x500 with 1 Axes>"
            ],
            "image/png": "[encoded data removed]"
          },
          "metadata": {}
        }
      ]
    },
    {
      "cell_type": "code",
      "source": [
        "!pip install contractions"
      ],
      "metadata": {
        "colab": {
          "base_uri": "https://localhost:8080/"
        },
        "id": "7lprOnQIv4p8",
        "outputId": "9fcc9d36-7bc3-42a2-e3cc-3e2b589fbd44"
      },
      "execution_count": null,
      "outputs": [
        {
          "output_type": "stream",
          "name": "stdout",
          "text": [
            "Looking in indexes: https://pypi.org/simple, https://us-python.pkg.dev/colab-wheels/public/simple/\n",
            "Collecting contractions\n",
            "  Downloading contractions-0.1.73-py2.py3-none-any.whl (8.7 kB)\n",
            "Collecting textsearch>=0.0.21\n",
            "  Downloading textsearch-0.0.24-py2.py3-none-any.whl (7.6 kB)\n",
            "Collecting anyascii\n",
            "  Downloading anyascii-0.3.2-py3-none-any.whl (289 kB)\n",
            "\u001b[2K     \u001b[90m━━━━━━━━━━━━━━━━━━━━━━━━━━━━━━━━━━━━━━━\u001b[0m \u001b[32m289.9/289.9 KB\u001b[0m \u001b[31m6.1 MB/s\u001b[0m eta \u001b[36m0:00:00\u001b[0m\n",
            "\u001b[?25hCollecting pyahocorasick\n",
            "  Downloading pyahocorasick-2.0.0-cp39-cp39-manylinux_2_5_x86_64.manylinux1_x86_64.whl (103 kB)\n",
            "\u001b[2K     \u001b[90m━━━━━━━━━━━━━━━━━━━━━━━━━━━━━━━━━━━━━━\u001b[0m \u001b[32m103.2/103.2 KB\u001b[0m \u001b[31m11.2 MB/s\u001b[0m eta \u001b[36m0:00:00\u001b[0m\n",
            "\u001b[?25hInstalling collected packages: pyahocorasick, anyascii, textsearch, contractions\n",
            "Successfully installed anyascii-0.3.2 contractions-0.1.73 pyahocorasick-2.0.0 textsearch-0.0.24\n"
          ]
        }
      ]
    },
    {
      "cell_type": "code",
      "source": [
        "import nltk\n",
        "import re\n",
        "import contractions\n",
        "nltk.download('stopwords')\n",
        "from nltk.corpus import stopwords\n",
        "STOPWORDS = set(stopwords.words('english'))\n",
        "from nltk.stem import PorterStemmer\n",
        "stemmer = PorterStemmer()\n",
        "from nltk.stem import WordNetLemmatizer\n",
        "lemmatizer = WordNetLemmatizer()"
      ],
      "metadata": {
        "colab": {
          "base_uri": "https://localhost:8080/"
        },
        "id": "D0DT7cwev75Z",
        "outputId": "79e34db9-3eca-4fd6-c1ca-bbb76f914fb1"
      },
      "execution_count": null,
      "outputs": [
        {
          "output_type": "stream",
          "name": "stderr",
          "text": [
            "[nltk_data] Downloading package stopwords to /root/nltk_data...\n",
            "[nltk_data]   Unzipping corpora/stopwords.zip.\n"
          ]
        }
      ]
    },
    {
      "cell_type": "code",
      "source": [
        "def text_clean(text):\n",
        "    # changing to lower case\n",
        "    lower = text.str.lower()\n",
        "\n",
        "    # Replacing the repeating pattern of &#039;\n",
        "    pattern_remove = lower.str.replace(\"&#039;\", \"\")\n",
        "\n",
        "    # Removing all the special Characters\n",
        "    special_remove = pattern_remove.str.replace(r'[^\\w\\d\\s]',' ')\n",
        "\n",
        "    # Removing all the non ASCII characters\n",
        "    ascii_remove = special_remove.str.replace(r'[^\\x00-\\x7F]+',' ')\n",
        "\n",
        "    # Removing the leading and trailing Whitespaces\n",
        "    whitespace_remove = ascii_remove.str.replace(r'^\\s+|\\s+?$','')\n",
        "\n",
        "    # Replacing multiple Spaces with Single Space\n",
        "    multiw_remove = whitespace_remove.str.replace(r'\\s+',' ')\n",
        "\n",
        "    # Replacing Two or more dots with one\n",
        "    dataframe = multiw_remove.str.replace(r'\\.{2,}', ' ')\n",
        "\n",
        "    return dataframe"
      ],
      "metadata": {
        "id": "VTopGr6dv9lq"
      },
      "execution_count": null,
      "outputs": []
    },
    {
      "cell_type": "code",
      "source": [
        "data['text_clean'] = text_clean(data['text'])"
      ],
      "metadata": {
        "colab": {
          "base_uri": "https://localhost:8080/"
        },
        "id": "FiqnAnduv_IZ",
        "outputId": "8744b802-8b65-4c61-c4d3-5275aeb87341"
      },
      "execution_count": null,
      "outputs": [
        {
          "output_type": "stream",
          "name": "stderr",
          "text": [
            "<ipython-input-23-5930dfc3c7a1>:9: FutureWarning: The default value of regex will change from True to False in a future version.\n",
            "  special_remove = pattern_remove.str.replace(r'[^\\w\\d\\s]',' ')\n",
            "<ipython-input-23-5930dfc3c7a1>:12: FutureWarning: The default value of regex will change from True to False in a future version.\n",
            "  ascii_remove = special_remove.str.replace(r'[^\\x00-\\x7F]+',' ')\n",
            "<ipython-input-23-5930dfc3c7a1>:15: FutureWarning: The default value of regex will change from True to False in a future version.\n",
            "  whitespace_remove = ascii_remove.str.replace(r'^\\s+|\\s+?$','')\n",
            "<ipython-input-23-5930dfc3c7a1>:18: FutureWarning: The default value of regex will change from True to False in a future version.\n",
            "  multiw_remove = whitespace_remove.str.replace(r'\\s+',' ')\n",
            "<ipython-input-23-5930dfc3c7a1>:21: FutureWarning: The default value of regex will change from True to False in a future version.\n",
            "  dataframe = multiw_remove.str.replace(r'\\.{2,}', ' ')\n"
          ]
        }
      ]
    },
    {
      "cell_type": "code",
      "source": [
        "le = LabelEncoder()\n",
        "data['label'] = le.fit_transform(data['label'])"
      ],
      "metadata": {
        "id": "VnTClVlKv_3A"
      },
      "execution_count": null,
      "outputs": []
    },
    {
      "cell_type": "code",
      "source": [
        "data.label.value_counts()"
      ],
      "metadata": {
        "colab": {
          "base_uri": "https://localhost:8080/"
        },
        "id": "Sb4bgqC1wBXX",
        "outputId": "620958c4-d57c-4d4f-ba0c-38b761a44f6a"
      },
      "execution_count": null,
      "outputs": [
        {
          "output_type": "execute_result",
          "data": {
            "text/plain": [
              "0    15253\n",
              "1    10844\n",
              "Name: label, dtype: int64"
            ]
          },
          "metadata": {},
          "execution_count": 26
        }
      ]
    },
    {
      "cell_type": "code",
      "source": [
        "data.head()"
      ],
      "metadata": {
        "colab": {
          "base_uri": "https://localhost:8080/",
          "height": 250
        },
        "id": "HcS0r0WOwC1F",
        "outputId": "9e87fde1-519d-4d74-82b0-1880f74636e8"
      },
      "execution_count": null,
      "outputs": [
        {
          "output_type": "execute_result",
          "data": {
            "text/plain": [
              "      id                                               text  label      type  \\\n",
              "0  10000  It should be legal for a husband to rape his wife      0  notgiven   \n",
              "1  10001                            dalits are lowlife scum      0  notgiven   \n",
              "2  10002                                dalits are lowlives      0  notgiven   \n",
              "3  10003  It was a better world when women dare not ques...      0  notgiven   \n",
              "4  10004  I don't work this hard so that those immigrant...      0  notgiven   \n",
              "\n",
              "  model_wrong  db.model_preds           status round  split   annotator  \\\n",
              "0        True         0.97457  dynabench entry     1  train  gnzuctwed3   \n",
              "1       False         0.08233  dynabench entry     1   test  cagnluiznm   \n",
              "2        True         0.92319  dynabench entry     1  train  cagnluiznm   \n",
              "3        True         0.99006  dynabench entry     1   test  gnzuctwed3   \n",
              "4        True         0.98836  dynabench entry     1  train  cagnluiznm   \n",
              "\n",
              "                                          text_clean  \n",
              "0  it should be legal for a husband to rape his wife  \n",
              "1                            dalits are lowlife scum  \n",
              "2                                dalits are lowlives  \n",
              "3  it was a better world when women dare not ques...  \n",
              "4  i don t work this hard so that those immigrant...  "
            ],
            "text/html": [
              "\n",
              "  <div id=\"df-47e298cb-c724-4979-ac3d-2ae3608bf321\">\n",
              "    <div class=\"colab-df-container\">\n",
              "      <div>\n",
              "<style scoped>\n",
              "    .dataframe tbody tr th:only-of-type {\n",
              "        vertical-align: middle;\n",
              "    }\n",
              "\n",
              "    .dataframe tbody tr th {\n",
              "        vertical-align: top;\n",
              "    }\n",
              "\n",
              "    .dataframe thead th {\n",
              "        text-align: right;\n",
              "    }\n",
              "</style>\n",
              "<table border=\"1\" class=\"dataframe\">\n",
              "  <thead>\n",
              "    <tr style=\"text-align: right;\">\n",
              "      <th></th>\n",
              "      <th>id</th>\n",
              "      <th>text</th>\n",
              "      <th>label</th>\n",
              "      <th>type</th>\n",
              "      <th>model_wrong</th>\n",
              "      <th>db.model_preds</th>\n",
              "      <th>status</th>\n",
              "      <th>round</th>\n",
              "      <th>split</th>\n",
              "      <th>annotator</th>\n",
              "      <th>text_clean</th>\n",
              "    </tr>\n",
              "  </thead>\n",
              "  <tbody>\n",
              "    <tr>\n",
              "      <th>0</th>\n",
              "      <td>10000</td>\n",
              "      <td>It should be legal for a husband to rape his wife</td>\n",
              "      <td>0</td>\n",
              "      <td>notgiven</td>\n",
              "      <td>True</td>\n",
              "      <td>0.97457</td>\n",
              "      <td>dynabench entry</td>\n",
              "      <td>1</td>\n",
              "      <td>train</td>\n",
              "      <td>gnzuctwed3</td>\n",
              "      <td>it should be legal for a husband to rape his wife</td>\n",
              "    </tr>\n",
              "    <tr>\n",
              "      <th>1</th>\n",
              "      <td>10001</td>\n",
              "      <td>dalits are lowlife scum</td>\n",
              "      <td>0</td>\n",
              "      <td>notgiven</td>\n",
              "      <td>False</td>\n",
              "      <td>0.08233</td>\n",
              "      <td>dynabench entry</td>\n",
              "      <td>1</td>\n",
              "      <td>test</td>\n",
              "      <td>cagnluiznm</td>\n",
              "      <td>dalits are lowlife scum</td>\n",
              "    </tr>\n",
              "    <tr>\n",
              "      <th>2</th>\n",
              "      <td>10002</td>\n",
              "      <td>dalits are lowlives</td>\n",
              "      <td>0</td>\n",
              "      <td>notgiven</td>\n",
              "      <td>True</td>\n",
              "      <td>0.92319</td>\n",
              "      <td>dynabench entry</td>\n",
              "      <td>1</td>\n",
              "      <td>train</td>\n",
              "      <td>cagnluiznm</td>\n",
              "      <td>dalits are lowlives</td>\n",
              "    </tr>\n",
              "    <tr>\n",
              "      <th>3</th>\n",
              "      <td>10003</td>\n",
              "      <td>It was a better world when women dare not ques...</td>\n",
              "      <td>0</td>\n",
              "      <td>notgiven</td>\n",
              "      <td>True</td>\n",
              "      <td>0.99006</td>\n",
              "      <td>dynabench entry</td>\n",
              "      <td>1</td>\n",
              "      <td>test</td>\n",
              "      <td>gnzuctwed3</td>\n",
              "      <td>it was a better world when women dare not ques...</td>\n",
              "    </tr>\n",
              "    <tr>\n",
              "      <th>4</th>\n",
              "      <td>10004</td>\n",
              "      <td>I don't work this hard so that those immigrant...</td>\n",
              "      <td>0</td>\n",
              "      <td>notgiven</td>\n",
              "      <td>True</td>\n",
              "      <td>0.98836</td>\n",
              "      <td>dynabench entry</td>\n",
              "      <td>1</td>\n",
              "      <td>train</td>\n",
              "      <td>cagnluiznm</td>\n",
              "      <td>i don t work this hard so that those immigrant...</td>\n",
              "    </tr>\n",
              "  </tbody>\n",
              "</table>\n",
              "</div>\n",
              "      <button class=\"colab-df-convert\" onclick=\"convertToInteractive('df-47e298cb-c724-4979-ac3d-2ae3608bf321')\"\n",
              "              title=\"Convert this dataframe to an interactive table.\"\n",
              "              style=\"display:none;\">\n",
              "        \n",
              "  <svg xmlns=\"http://www.w3.org/2000/svg\" height=\"24px\"viewBox=\"0 0 24 24\"\n",
              "       width=\"24px\">\n",
              "    <path d=\"M0 0h24v24H0V0z\" fill=\"none\"/>\n",
              "    <path d=\"M18.56 5.44l.94 2.06.94-2.06 2.06-.94-2.06-.94-.94-2.06-.94 2.06-2.06.94zm-11 1L8.5 8.5l.94-2.06 2.06-.94-2.06-.94L8.5 2.5l-.94 2.06-2.06.94zm10 10l.94 2.06.94-2.06 2.06-.94-2.06-.94-.94-2.06-.94 2.06-2.06.94z\"/><path d=\"M17.41 7.96l-1.37-1.37c-.4-.4-.92-.59-1.43-.59-.52 0-1.04.2-1.43.59L10.3 9.45l-7.72 7.72c-.78.78-.78 2.05 0 2.83L4 21.41c.39.39.9.59 1.41.59.51 0 1.02-.2 1.41-.59l7.78-7.78 2.81-2.81c.8-.78.8-2.07 0-2.86zM5.41 20L4 18.59l7.72-7.72 1.47 1.35L5.41 20z\"/>\n",
              "  </svg>\n",
              "      </button>\n",
              "      \n",
              "  <style>\n",
              "    .colab-df-container {\n",
              "      display:flex;\n",
              "      flex-wrap:wrap;\n",
              "      gap: 12px;\n",
              "    }\n",
              "\n",
              "    .colab-df-convert {\n",
              "      background-color: #E8F0FE;\n",
              "      border: none;\n",
              "      border-radius: 50%;\n",
              "      cursor: pointer;\n",
              "      display: none;\n",
              "      fill: #1967D2;\n",
              "      height: 32px;\n",
              "      padding: 0 0 0 0;\n",
              "      width: 32px;\n",
              "    }\n",
              "\n",
              "    .colab-df-convert:hover {\n",
              "      background-color: #E2EBFA;\n",
              "      box-shadow: 0px 1px 2px rgba(60, 64, 67, 0.3), 0px 1px 3px 1px rgba(60, 64, 67, 0.15);\n",
              "      fill: #174EA6;\n",
              "    }\n",
              "\n",
              "    [theme=dark] .colab-df-convert {\n",
              "      background-color: #3B4455;\n",
              "      fill: #D2E3FC;\n",
              "    }\n",
              "\n",
              "    [theme=dark] .colab-df-convert:hover {\n",
              "      background-color: #434B5C;\n",
              "      box-shadow: 0px 1px 3px 1px rgba(0, 0, 0, 0.15);\n",
              "      filter: drop-shadow(0px 1px 2px rgba(0, 0, 0, 0.3));\n",
              "      fill: #FFFFFF;\n",
              "    }\n",
              "  </style>\n",
              "\n",
              "      <script>\n",
              "        const buttonEl =\n",
              "          document.querySelector('#df-47e298cb-c724-4979-ac3d-2ae3608bf321 button.colab-df-convert');\n",
              "        buttonEl.style.display =\n",
              "          google.colab.kernel.accessAllowed ? 'block' : 'none';\n",
              "\n",
              "        async function convertToInteractive(key) {\n",
              "          const element = document.querySelector('#df-47e298cb-c724-4979-ac3d-2ae3608bf321');\n",
              "          const dataTable =\n",
              "            await google.colab.kernel.invokeFunction('convertToInteractive',\n",
              "                                                     [key], {});\n",
              "          if (!dataTable) return;\n",
              "\n",
              "          const docLinkHtml = 'Like what you see? Visit the ' +\n",
              "            '<a target=\"_blank\" href=https://colab.research.google.com/notebooks/data_table.ipynb>data table notebook</a>'\n",
              "            + ' to learn more about interactive tables.';\n",
              "          element.innerHTML = '';\n",
              "          dataTable['output_type'] = 'display_data';\n",
              "          await google.colab.output.renderOutput(dataTable, element);\n",
              "          const docLink = document.createElement('div');\n",
              "          docLink.innerHTML = docLinkHtml;\n",
              "          element.appendChild(docLink);\n",
              "        }\n",
              "      </script>\n",
              "    </div>\n",
              "  </div>\n",
              "  "
            ]
          },
          "metadata": {},
          "execution_count": 27
        }
      ]
    },
    {
      "cell_type": "code",
      "source": [
        "x = data['text_clean']\n",
        "y= data['label']"
      ],
      "metadata": {
        "id": "lV9ME3tFwEcd"
      },
      "execution_count": null,
      "outputs": []
    },
    {
      "cell_type": "code",
      "source": [
        "x_train, x_test, y_train, y_test = train_test_split(x,y, stratify=y, test_size=0.3, random_state=42)"
      ],
      "metadata": {
        "id": "zaSyV--cwFjP"
      },
      "execution_count": null,
      "outputs": []
    },
    {
      "cell_type": "code",
      "source": [
        "# describes info about train and test set\n",
        "print(\"Number transactions X_train dataset: \", x_train.shape)\n",
        "print(\"Number transactions y_train dataset: \", y_train.shape)\n",
        "print(\"Number transactions X_test dataset: \", x_test.shape)\n",
        "print(\"Number transactions y_test dataset: \", y_test.shape)"
      ],
      "metadata": {
        "id": "V6elokffwG_4"
      },
      "execution_count": null,
      "outputs": []
    },
    {
      "cell_type": "code",
      "source": [
        "from sklearn.feature_extraction.text import HashingVectorizer\n",
        "hvectorizer = HashingVectorizer(n_features=10000,norm=None,alternate_sign=False,stop_words='english')\n",
        "x_train = hvectorizer.fit_transform(x_train).toarray()\n",
        "x_test = hvectorizer.transform(x_test).toarray()"
      ],
      "metadata": {
        "id": "YcrgTY7MwIzs"
      },
      "execution_count": null,
      "outputs": []
    },
    {
      "cell_type": "code",
      "source": [
        "x_train"
      ],
      "metadata": {
        "colab": {
          "base_uri": "https://localhost:8080/"
        },
        "id": "e09gDvDbwKcF",
        "outputId": "c38f67a4-45ac-4346-f9f0-7ba25c16cf6e"
      },
      "execution_count": null,
      "outputs": [
        {
          "output_type": "execute_result",
          "data": {
            "text/plain": [
              "array([[0., 0., 0., ..., 0., 0., 0.],\n",
              "       [0., 0., 0., ..., 0., 0., 0.],\n",
              "       [0., 0., 0., ..., 0., 0., 0.],\n",
              "       ...,\n",
              "       [0., 0., 0., ..., 0., 0., 0.],\n",
              "       [0., 0., 0., ..., 0., 0., 0.],\n",
              "       [0., 0., 0., ..., 0., 0., 0.]])"
            ]
          },
          "metadata": {},
          "execution_count": 32
        }
      ]
    },
    {
      "cell_type": "code",
      "source": [
        "y_train"
      ],
      "metadata": {
        "colab": {
          "base_uri": "https://localhost:8080/"
        },
        "id": "7R7uU2RuwL4u",
        "outputId": "d2d12dc9-f9ac-4a5f-f7a9-be4a4743fb98"
      },
      "execution_count": null,
      "outputs": [
        {
          "output_type": "execute_result",
          "data": {
            "text/plain": [
              "34630    0\n",
              "24935    0\n",
              "23202    0\n",
              "23872    0\n",
              "30592    1\n",
              "        ..\n",
              "38768    1\n",
              "40446    0\n",
              "2089     1\n",
              "35163    1\n",
              "4896     0\n",
              "Name: label, Length: 18267, dtype: int64"
            ]
          },
          "metadata": {},
          "execution_count": 33
        }
      ]
    },
    {
      "cell_type": "code",
      "source": [
        "#plt.scatter(data.text_clean , data.label , marker='+' , color = 'red')"
      ],
      "metadata": {
        "id": "XPh8PDCSLplj"
      },
      "execution_count": null,
      "outputs": []
    },
    {
      "cell_type": "code",
      "source": [
        "#LogisticRegression\n",
        "from sklearn.linear_model import LogisticRegression\n",
        "classifier = LogisticRegression(random_state = 0)\n",
        "classifier.fit(x_train, y_train)\n",
        "y_pred = classifier.predict(x_test)\n",
        "\n",
        "\n",
        "#Creating the Confusion matrix\n",
        "from sklearn.metrics import confusion_matrix\n",
        "cm = confusion_matrix(y_test, y_pred)\n",
        "print(\"Confusion matrix :\\n\",cm)\n",
        "\n",
        "# find accuracy_score\n",
        "from sklearn.metrics import accuracy_score\n",
        "print(\"the Accuracy of given model:\",accuracy_score(y_test, y_pred)*100)\n",
        "\n",
        "\n",
        "\n",
        "\n",
        "\n"
      ],
      "metadata": {
        "colab": {
          "base_uri": "https://localhost:8080/"
        },
        "id": "L8ZjbkoswOV2",
        "outputId": "3f284e88-d80b-4451-fb56-9285ee735717"
      },
      "execution_count": null,
      "outputs": [
        {
          "output_type": "stream",
          "name": "stdout",
          "text": [
            "Confusion matrix :\n",
            " [[4135  441]\n",
            " [ 670 2584]]\n",
            "the Accuracy of given model: 85.8109833971903\n"
          ]
        },
        {
          "output_type": "stream",
          "name": "stderr",
          "text": [
            "/usr/local/lib/python3.9/dist-packages/sklearn/linear_model/_logistic.py:458: ConvergenceWarning: lbfgs failed to converge (status=1):\n",
            "STOP: TOTAL NO. of ITERATIONS REACHED LIMIT.\n",
            "\n",
            "Increase the number of iterations (max_iter) or scale the data as shown in:\n",
            "    https://scikit-learn.org/stable/modules/preprocessing.html\n",
            "Please also refer to the documentation for alternative solver options:\n",
            "    https://scikit-learn.org/stable/modules/linear_model.html#logistic-regression\n",
            "  n_iter_i = _check_optimize_result(\n"
          ]
        }
      ]
    },
    {
      "cell_type": "code",
      "source": [
        "result = classifier.predict(hvectorizer.transform(['''Blacks are disgusting ''']))\n",
        "if result==0:\n",
        "    print(\"The Entered Text is Detected as Hate Speech\")\n",
        "else:\n",
        "    print(\"The Entered Text is Detected as NO-Hate Speech\")"
      ],
      "metadata": {
        "colab": {
          "base_uri": "https://localhost:8080/"
        },
        "id": "UctonZY1wR-0",
        "outputId": "b335e2cd-3135-420e-ad67-149dad7b1491"
      },
      "execution_count": null,
      "outputs": [
        {
          "output_type": "stream",
          "name": "stdout",
          "text": [
            "The Entered Text is Detected as Hate Speech\n"
          ]
        }
      ]
    },
    {
      "cell_type": "code",
      "source": [
        "result = classifier.predict(hvectorizer.transform(['''He is a good guy with great heart.''']))\n",
        "if result==0:\n",
        "    print(\"The Entered Text is Detected as Hate Speech\")\n",
        "else:\n",
        "    print(\"The Entered Text is Detected as No-Hate Speech\")"
      ],
      "metadata": {
        "colab": {
          "base_uri": "https://localhost:8080/"
        },
        "id": "mLH1vFRMwXkR",
        "outputId": "51cba439-d763-41f8-9a64-9a3e7ef6af61"
      },
      "execution_count": null,
      "outputs": [
        {
          "output_type": "stream",
          "name": "stdout",
          "text": [
            "The Entered Text is Detected as No-Hate Speech\n"
          ]
        }
      ]
    },
    {
      "cell_type": "code",
      "source": [
        "# DECISION TREE\n",
        "from sklearn.tree import DecisionTreeClassifier\n",
        "dt = DecisionTreeClassifier()\n",
        "dt = dt.fit(x_train,y_train)\n",
        "y_pred = dt.predict(x_test)\n",
        "#Creating the Confusion matrix\n",
        "from sklearn.metrics import confusion_matrix\n",
        "cm = confusion_matrix(y_test, y_pred)\n",
        "print(\"Confusion matrix :\\n\",cm)\n",
        "\n",
        "# find accuracy_score\n",
        "from sklearn.metrics import accuracy_score\n",
        "print(\"the Accuracy of given model:\",accuracy_score(y_test, y_pred)*100)"
      ],
      "metadata": {
        "colab": {
          "base_uri": "https://localhost:8080/"
        },
        "id": "2DB8_iGUwYRK",
        "outputId": "7d98a8b7-867f-4d5c-ab3a-a781390361bb"
      },
      "execution_count": null,
      "outputs": [
        {
          "output_type": "stream",
          "name": "stdout",
          "text": [
            "Confusion matrix :\n",
            " [[3884  692]\n",
            " [ 692 2562]]\n",
            "the Accuracy of given model: 82.32439335887611\n"
          ]
        }
      ]
    },
    {
      "cell_type": "code",
      "source": [
        "# RANDOM FOREST --\n",
        "from sklearn.ensemble import RandomForestClassifier\n",
        "from sklearn.metrics import accuracy_score, confusion_matrix\n",
        "\n",
        "# Initialize Random Forest classifier\n",
        "RF = RandomForestClassifier(n_estimators=100, random_state=42)\n",
        "\n",
        "# Train the model on the training data\n",
        "RF.fit(x_train, y_train)\n",
        "\n",
        "# Make predictions on the testing data\n",
        "predictions_rf = RF.predict(x_test)\n",
        "print(predictions_rf, \"\\n\")\n",
        "\n",
        "val6 = (accuracy_score(y_test, predictions_rf)*100)\n",
        "print('Accuracy:', val6, \"\\n\")\n",
        "\n",
        "print(\"*Confusion Matrix for Random Forest: \")\n",
        "print(confusion_matrix(y_test, predictions_rf))"
      ],
      "metadata": {
        "colab": {
          "base_uri": "https://localhost:8080/"
        },
        "id": "1V8xjkarJhVE",
        "outputId": "8a1fee9d-5cfd-4395-dfc2-7a59bdb157b7"
      },
      "execution_count": null,
      "outputs": [
        {
          "output_type": "stream",
          "name": "stdout",
          "text": [
            "[0 0 1 ... 1 0 0] \n",
            "\n",
            "Accuracy: 85.74712643678161 \n",
            "\n",
            "*Confusion Matrix for Random Forest: \n",
            "[[4127  449]\n",
            " [ 667 2587]]\n"
          ]
        }
      ]
    },
    {
      "cell_type": "code",
      "source": [
        "result = dt.predict(hvectorizer.transform([''' ''']))\n",
        "if result==0:\n",
        "    print(\"The Entered Text is Detected as Hate Speech\")\n",
        "else:\n",
        "    print(\"The Entered Text is Detected as No-Hate Speech\")"
      ],
      "metadata": {
        "id": "CpyLPdOBwbu4"
      },
      "execution_count": null,
      "outputs": []
    },
    {
      "cell_type": "code",
      "source": [
        "from sklearn.naive_bayes import MultinomialNB\n",
        "nb = MultinomialNB()\n",
        "nb = nb.fit(x_train,y_train)\n",
        "y_pred = nb.predict(x_test)\n",
        "#Creating the Confusion matrix\n",
        "from sklearn.metrics import confusion_matrix\n",
        "cm = confusion_matrix(y_test, y_pred)\n",
        "print(\"Confusion matrix :\\n\",cm)\n",
        "\n",
        "# find accuracy_score\n",
        "from sklearn.metrics import accuracy_score\n",
        "print(\"the Accuracy of given model:\",accuracy_score(y_test, y_pred)*100)"
      ],
      "metadata": {
        "colab": {
          "base_uri": "https://localhost:8080/"
        },
        "id": "9qndzSHez3vW",
        "outputId": "757f56d5-9b0b-4bb2-c513-0d87d6b92994"
      },
      "execution_count": null,
      "outputs": [
        {
          "output_type": "stream",
          "name": "stdout",
          "text": [
            "Confusion matrix :\n",
            " [[4012  564]\n",
            " [ 763 2491]]\n",
            "the Accuracy of given model: 83.05236270753512\n"
          ]
        }
      ]
    },
    {
      "cell_type": "code",
      "source": [
        "from sklearn.ensemble import AdaBoostClassifier\n",
        "adb = AdaBoostClassifier()\n",
        "adb = adb.fit(x_train,y_train)\n",
        "y_pred = adb.predict(x_test)\n",
        "#Creating the Confusion matrix\n",
        "from sklearn.metrics import confusion_matrix\n",
        "cm = confusion_matrix(y_test, y_pred)\n",
        "print(\"Confusion matrix :\\n\",cm)\n",
        "# find accuracy_score\n",
        "from sklearn.metrics import accuracy_score\n",
        "print(\"the Accuracy of given model:\",accuracy_score(y_test, y_pred)*100)"
      ],
      "metadata": {
        "colab": {
          "base_uri": "https://localhost:8080/"
        },
        "id": "c-Q5dM2jz5n2",
        "outputId": "330490aa-9b0f-469b-ecad-77be3837fe48"
      },
      "execution_count": null,
      "outputs": [
        {
          "output_type": "stream",
          "name": "stdout",
          "text": [
            "Confusion matrix :\n",
            " [[4287  289]\n",
            " [1618 1636]]\n",
            "the Accuracy of given model: 75.64495530012772\n"
          ]
        }
      ]
    },
    {
      "cell_type": "code",
      "source": [
        "from keras.models import Sequential\n",
        "from keras.layers import Dense\n",
        "from tensorflow.keras.optimizers import Adam\n",
        "from keras.layers import Dropout\n",
        "from keras import regularizers\n",
        "\n",
        "model = Sequential()\n",
        "\n",
        "# layers\n",
        "model.add(Dense(units = 16, kernel_initializer = 'uniform', activation = 'relu', input_dim = 10000))\n",
        "model.add(Dense(units = 8, kernel_initializer = 'uniform', activation = 'relu'))\n",
        "model.add(Dropout(0.25))\n",
        "model.add(Dense(units = 4, kernel_initializer = 'uniform', activation = 'relu'))\n",
        "model.add(Dropout(0.5))\n",
        "model.add(Dense(units = 1, kernel_initializer = 'uniform', activation = 'sigmoid'))\n",
        "# from keras.optimizers import SGD\n",
        "# Compiling the aNN\n",
        "model.compile(optimizer = 'adam', loss = 'binary_crossentropy', metrics = ['accuracy'])\n",
        "model.summary()\n",
        "# fit the model to the training data\n",
        "history=model.fit(x_train, y_train,epochs=7, validation_data=(x_test, y_test))\n",
        "y_pred = model.predict(x_test)\n",
        "acc_ann = np.mean(history.history['val_accuracy'])\n",
        "\n",
        "acc_ann = acc_ann*100\n",
        "print('The accuracy obtained by Ann model :',acc_ann)"
      ],
      "metadata": {
        "id": "TtJT8Kj9z9Uh",
        "colab": {
          "base_uri": "https://localhost:8080/"
        },
        "outputId": "5a7e2477-3f68-4239-e6c0-8ab92cda2ad5"
      },
      "execution_count": null,
      "outputs": [
        {
          "output_type": "stream",
          "name": "stdout",
          "text": [
            "Model: \"sequential_2\"\n",
            "_________________________________________________________________\n",
            " Layer (type)                Output Shape              Param #   \n",
            "=================================================================\n",
            " dense_8 (Dense)             (None, 16)                160016    \n",
            "                                                                 \n",
            " dense_9 (Dense)             (None, 8)                 136       \n",
            "                                                                 \n",
            " dropout_4 (Dropout)         (None, 8)                 0         \n",
            "                                                                 \n",
            " dense_10 (Dense)            (None, 4)                 36        \n",
            "                                                                 \n",
            " dropout_5 (Dropout)         (None, 4)                 0         \n",
            "                                                                 \n",
            " dense_11 (Dense)            (None, 1)                 5         \n",
            "                                                                 \n",
            "=================================================================\n",
            "Total params: 160,193\n",
            "Trainable params: 160,193\n",
            "Non-trainable params: 0\n",
            "_________________________________________________________________\n",
            "Epoch 1/7\n",
            "571/571 [==============================] - 6s 9ms/step - loss: 0.6021 - accuracy: 0.6546 - val_loss: 0.4919 - val_accuracy: 0.8351\n",
            "Epoch 2/7\n",
            "571/571 [==============================] - 4s 7ms/step - loss: 0.4733 - accuracy: 0.8133 - val_loss: 0.4522 - val_accuracy: 0.8378\n",
            "Epoch 3/7\n",
            "571/571 [==============================] - 5s 8ms/step - loss: 0.4177 - accuracy: 0.8337 - val_loss: 0.4558 - val_accuracy: 0.8400\n",
            "Epoch 4/7\n",
            "571/571 [==============================] - 4s 7ms/step - loss: 0.3610 - accuracy: 0.8501 - val_loss: 0.4461 - val_accuracy: 0.8457\n",
            "Epoch 5/7\n",
            "571/571 [==============================] - 4s 7ms/step - loss: 0.3325 - accuracy: 0.8627 - val_loss: 0.4923 - val_accuracy: 0.8511\n",
            "Epoch 6/7\n",
            "571/571 [==============================] - 4s 8ms/step - loss: 0.3007 - accuracy: 0.8729 - val_loss: 0.5292 - val_accuracy: 0.8471\n",
            "Epoch 7/7\n",
            "571/571 [==============================] - 4s 8ms/step - loss: 0.2841 - accuracy: 0.8793 - val_loss: 0.5874 - val_accuracy: 0.8535\n",
            "245/245 [==============================] - 1s 2ms/step\n",
            "The accuracy obtained by Ann model : 84.4334968498775\n"
          ]
        }
      ]
    }
  ]
}